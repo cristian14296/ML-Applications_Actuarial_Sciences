{
  "cells": [
    {
      "cell_type": "markdown",
      "metadata": {
        "id": "view-in-github",
        "colab_type": "text"
      },
      "source": [
        "<a href=\"https://colab.research.google.com/github/cristian14296/ML-Applications_Actuarial_Sciences/blob/main/CA_Nov_2023_Naive_Bayes_MNIST_ipyn.ipynb\" target=\"_parent\"><img src=\"https://colab.research.google.com/assets/colab-badge.svg\" alt=\"Open In Colab\"/></a>"
      ]
    },
    {
      "cell_type": "markdown",
      "metadata": {
        "id": "2Oa4dfn25Bkx"
      },
      "source": [
        "# Digit classifier and Image generator using Naive Bayes"
      ]
    },
    {
      "cell_type": "markdown",
      "metadata": {
        "id": "jXo-DseE5Bk8"
      },
      "source": [
        "## Introduction"
      ]
    },
    {
      "cell_type": "markdown",
      "metadata": {
        "id": "_6tp9jQ05BlA"
      },
      "source": [
        "The purpose of this Notebook is to apply statistical classification tools. There are two types of classification, when the groups are well defined and we try to determine criteria to be able to label each subject belonging to one of these groups or when we have no prior information and we want to delimit the data into their different classes. For this study, a database of 28x28 image digits was selected, which contain the numbers written from 0 to 9 by hand and it is desired to classify each of those images into its corresponding classification."
      ]
    },
    {
      "cell_type": "markdown",
      "metadata": {
        "id": "56QcNxHi5BlE"
      },
      "source": [
        "In many research practices, the execution of an adequate method or treatment begins with the elaboration of the diagnosis of the subject who needs data collection. An example was taken of a database of the type of images of handwritten numbers. The sample consisted of a total of 70,000 images (this data set contains a series of unspecified quantities for each of the 10 categories that it comprises), a sampling of this type allows a good general approach when identifying patterns in the handwriting of individuals from a particular place and therefore the identification of the individual. The diagnosis of human behavior and likewise its identification is essential at the time of an optimal society. Diagnostic aids become important tools for the researcher, however, the existence of different variables and analysis methods that are applied, in addition to the subjective emphasis of the researcher, who under his own criteria defines what methodologies he is going to use, how many variables he is going to use and on what tools he will rely, make these aids susceptible to errors and ambiguities.\n",
        "\n",
        "In order to correct or address the problems that have been named, it is proposed to carry out a methodology in the first instance, Bayesian analysis as a statistical methodology has been developed and applied in various areas of knowledge in order to identify, classify and group variables that explain a given phenomenon. With this, the objective of the notebook is framed, to apply a tool in the classification of the relationship of different patterns of certain handwritings using the variables of the analysis obtained from a sample of selected images."
      ]
    },
    {
      "cell_type": "markdown",
      "metadata": {
        "id": "fllB7q0v5BlH"
      },
      "source": [
        "### Naive bayes"
      ]
    },
    {
      "cell_type": "markdown",
      "metadata": {
        "id": "N3k5d5Rd5BlJ"
      },
      "source": [
        "Naive Bayes is one of the classification methodologies that one should approach, so we bring this model to make an introduction to the operation, performance and also an application of it. We begin to observe that the name of this methodology indicates that we will work with Bayes' theorem, but the second part of it indicates 'Naive' or 'Ingenuous'. The algorithm took that name given the assumption that identifies it, which tells us that the presence of some characteristic in a class is totally independent (does not have a relationship) with some other characteristic of the same class.\n"
      ]
    },
    {
      "cell_type": "markdown",
      "metadata": {
        "id": "UBz1cht75BlL"
      },
      "source": [
        "**Indpendence Assumption**\n",
        "\n",
        "An important assumption that the model takes into account is independence. Statistically, we name independence in the following way:\n",
        "- $P[A|B] = P[A]$, this implies that the probability of A is not affected by the presence of B\n",
        "\n",
        "his is discussed because the model takes each of the categories of individuals to be segmented and takes its characteristics independently, none of them affects the presence of the other characteristics."
      ]
    },
    {
      "cell_type": "markdown",
      "metadata": {
        "id": "4b1aNfAN5BlN"
      },
      "source": [
        "**Naive Bayes algorithm pros and cons**\n",
        "- Easy and quick way to predict segments/categories\n",
        "- The independence assumption works well with models that contain few training data\n",
        "- Estimates of low reliability, can be taken as a first approach to the behavior of the data\n",
        "- he independence of the characteristics is very unlikely in real situations\n",
        "- The estimates are limited to the data with which they have been trained."
      ]
    },
    {
      "cell_type": "markdown",
      "metadata": {
        "id": "0POsgn8W5BlP"
      },
      "source": [
        "### MNIST"
      ]
    },
    {
      "cell_type": "markdown",
      "metadata": {
        "id": "Y2O7Jr9Y5BlR"
      },
      "source": [
        "The MNIST database, which stands for \"Modified National Institute of Standards and Technology\", is a popular dataset in the fields of computer vision and machine learning. It was created by the National Institute of Standards and Technology and then modified for use in portable fingerprint scanners.\n",
        "\n",
        "In the MNIST database, there is a collection of granular images of handwritten numbers from 0 to 9. There is a number in the middle of each 28x28 pixel image. Since the images are labeled, it is possible to determine the number that appears in each one.\n",
        "\n",
        "There are a total of 60,000 training images and 10,000 test images in the MNIST database, or 6,000 images per digit. Storing handwritten digital files in this location is a great idea. In the fields of machine learning and computer vision, the MNIST database has become a standard that is used to test and evaluate various benchmarks and machine learning algorithms. In the mining industry, it has also served as the basis for numerous projects and competitions due to its simplicity and accessibility"
      ]
    },
    {
      "cell_type": "markdown",
      "metadata": {
        "id": "PIqn1YpF5BlT"
      },
      "source": [
        "## Digit classification ussing Naive Bayes model approach"
      ]
    },
    {
      "cell_type": "markdown",
      "metadata": {
        "id": "iYkAFSxu5BlT"
      },
      "source": [
        "### Library and Data Definition"
      ]
    },
    {
      "cell_type": "markdown",
      "metadata": {
        "id": "gb2lq9UI5BlU"
      },
      "source": [
        "Import the necessary libraries\n",
        "\n",
        "- Pandas 2.0.3: for data manipulation and analysis\n",
        "- Sklearn fetch_openml 0.0.post9: for accessing and downloading datasets from OpenML\n",
        "- sklearn.model_selection: for splitting datasets into training and test sets\n",
        "- Matplotlib 3.7.2: for creating visualizations and plots\n",
        "- Numpy 1.25.1: for efficient mathematical and numerical operations\n",
        "- Warnings: for controlling and handling warnings\n",
        "- Random: for generating random numbers and performing random operations\n",
        "- Decomposition PCA: for dimensionality reduction\n",
        "- Resample: for generating resampled datasets\n",
        "- Naive_bayes GaussianNB: for the Gaussian version of the Naive Bayes model\n",
        "- Naive_bayes BernoulliNB: for the Bernoulli version of the Naive Bayes model\n",
        "- Metrics classification_report: for evaluating the performance of a classification model\n"
      ]
    },
    {
      "cell_type": "code",
      "execution_count": null,
      "metadata": {
        "id": "10aKGxOK5BlU"
      },
      "outputs": [],
      "source": [
        "import pandas as pd\n",
        "import numpy as np\n",
        "from sklearn.datasets import fetch_openml\n",
        "import matplotlib.pyplot as plt\n",
        "from sklearn.model_selection import train_test_split\n",
        "from sklearn.decomposition import PCA\n",
        "from sklearn.naive_bayes import GaussianNB\n",
        "from sklearn.naive_bayes import BernoulliNB\n",
        "from sklearn.utils import resample\n",
        "from sklearn.metrics import classification_report\n",
        "import random\n",
        "import warnings"
      ]
    },
    {
      "cell_type": "markdown",
      "metadata": {
        "id": "PULxKyKp5BlW"
      },
      "source": [
        "### Selecting Training Data and Testing Data"
      ]
    },
    {
      "cell_type": "markdown",
      "metadata": {
        "id": "5KcC0NJ25BlX"
      },
      "source": [
        "In this case, we are using the MNIST library because it is reproducible for users. This dataset contains 70,000 images of handwritten digits that have been encoded so that they can be visualized as a matrix. It has a series of numbers that tell us the color of each pixel (28x28), and a variable that tells us the digit to which that encoding belongs. This is divided into keys given the dictionary imported by the OpenML library"
      ]
    },
    {
      "cell_type": "code",
      "execution_count": null,
      "metadata": {
        "id": "6XnZpLeN5BlX",
        "outputId": "579b7540-3ab8-46fd-a8d3-869e074d93c6",
        "colab": {
          "base_uri": "https://localhost:8080/"
        }
      },
      "outputs": [
        {
          "output_type": "stream",
          "name": "stderr",
          "text": [
            "/usr/local/lib/python3.10/dist-packages/sklearn/datasets/_openml.py:968: FutureWarning: The default value of `parser` will change from `'liac-arff'` to `'auto'` in 1.4. You can set `parser='auto'` to silence this warning. Therefore, an `ImportError` will be raised from 1.4 if the dataset is dense and pandas is not installed. Note that the pandas parser may return different data types. See the Notes Section in fetch_openml's API doc for details.\n",
            "  warn(\n"
          ]
        }
      ],
      "source": [
        "mnist = fetch_openml('mnist_784')"
      ]
    },
    {
      "cell_type": "markdown",
      "metadata": {
        "id": "X8MxZ9x15BlY"
      },
      "source": [
        "We will visualize the keys of the imported MNIST object. In this, we will see, for example, data with the encoded images, the total categories it has, the variable that tells us each pixel example which handwritten number it represents, among other things."
      ]
    },
    {
      "cell_type": "code",
      "execution_count": null,
      "metadata": {
        "id": "sluqTHXz5BlZ",
        "outputId": "e819a0db-1957-4e13-ebb1-645b5f037f2d",
        "colab": {
          "base_uri": "https://localhost:8080/"
        }
      },
      "outputs": [
        {
          "output_type": "execute_result",
          "data": {
            "text/plain": [
              "dict_keys(['data', 'target', 'frame', 'categories', 'feature_names', 'target_names', 'DESCR', 'details', 'url'])"
            ]
          },
          "metadata": {},
          "execution_count": 5
        }
      ],
      "source": [
        "mnist.keys()"
      ]
    },
    {
      "cell_type": "markdown",
      "metadata": {
        "id": "-dmUunNZ5Bla"
      },
      "source": [
        "We will print 'data', which has 784 columns (28x28). Each of these columns indicates the pixel and the value it takes for each of the encoded images."
      ]
    },
    {
      "cell_type": "code",
      "execution_count": null,
      "metadata": {
        "id": "5PQmkNW25Bla",
        "outputId": "f7f1d0a7-d999-4ec7-e041-f1355acdfbe4",
        "colab": {
          "base_uri": "https://localhost:8080/",
          "height": 161
        }
      },
      "outputs": [
        {
          "output_type": "execute_result",
          "data": {
            "text/plain": [
              "   pixel1  pixel2  pixel3  pixel4  pixel5  pixel6  pixel7  pixel8  pixel9  \\\n",
              "0     0.0     0.0     0.0     0.0     0.0     0.0     0.0     0.0     0.0   \n",
              "1     0.0     0.0     0.0     0.0     0.0     0.0     0.0     0.0     0.0   \n",
              "\n",
              "   pixel10  ...  pixel775  pixel776  pixel777  pixel778  pixel779  pixel780  \\\n",
              "0      0.0  ...       0.0       0.0       0.0       0.0       0.0       0.0   \n",
              "1      0.0  ...       0.0       0.0       0.0       0.0       0.0       0.0   \n",
              "\n",
              "   pixel781  pixel782  pixel783  pixel784  \n",
              "0       0.0       0.0       0.0       0.0  \n",
              "1       0.0       0.0       0.0       0.0  \n",
              "\n",
              "[2 rows x 784 columns]"
            ],
            "text/html": [
              "\n",
              "  <div id=\"df-fe40e21d-1ac0-4118-9e44-a1b57f134a12\" class=\"colab-df-container\">\n",
              "    <div>\n",
              "<style scoped>\n",
              "    .dataframe tbody tr th:only-of-type {\n",
              "        vertical-align: middle;\n",
              "    }\n",
              "\n",
              "    .dataframe tbody tr th {\n",
              "        vertical-align: top;\n",
              "    }\n",
              "\n",
              "    .dataframe thead th {\n",
              "        text-align: right;\n",
              "    }\n",
              "</style>\n",
              "<table border=\"1\" class=\"dataframe\">\n",
              "  <thead>\n",
              "    <tr style=\"text-align: right;\">\n",
              "      <th></th>\n",
              "      <th>pixel1</th>\n",
              "      <th>pixel2</th>\n",
              "      <th>pixel3</th>\n",
              "      <th>pixel4</th>\n",
              "      <th>pixel5</th>\n",
              "      <th>pixel6</th>\n",
              "      <th>pixel7</th>\n",
              "      <th>pixel8</th>\n",
              "      <th>pixel9</th>\n",
              "      <th>pixel10</th>\n",
              "      <th>...</th>\n",
              "      <th>pixel775</th>\n",
              "      <th>pixel776</th>\n",
              "      <th>pixel777</th>\n",
              "      <th>pixel778</th>\n",
              "      <th>pixel779</th>\n",
              "      <th>pixel780</th>\n",
              "      <th>pixel781</th>\n",
              "      <th>pixel782</th>\n",
              "      <th>pixel783</th>\n",
              "      <th>pixel784</th>\n",
              "    </tr>\n",
              "  </thead>\n",
              "  <tbody>\n",
              "    <tr>\n",
              "      <th>0</th>\n",
              "      <td>0.0</td>\n",
              "      <td>0.0</td>\n",
              "      <td>0.0</td>\n",
              "      <td>0.0</td>\n",
              "      <td>0.0</td>\n",
              "      <td>0.0</td>\n",
              "      <td>0.0</td>\n",
              "      <td>0.0</td>\n",
              "      <td>0.0</td>\n",
              "      <td>0.0</td>\n",
              "      <td>...</td>\n",
              "      <td>0.0</td>\n",
              "      <td>0.0</td>\n",
              "      <td>0.0</td>\n",
              "      <td>0.0</td>\n",
              "      <td>0.0</td>\n",
              "      <td>0.0</td>\n",
              "      <td>0.0</td>\n",
              "      <td>0.0</td>\n",
              "      <td>0.0</td>\n",
              "      <td>0.0</td>\n",
              "    </tr>\n",
              "    <tr>\n",
              "      <th>1</th>\n",
              "      <td>0.0</td>\n",
              "      <td>0.0</td>\n",
              "      <td>0.0</td>\n",
              "      <td>0.0</td>\n",
              "      <td>0.0</td>\n",
              "      <td>0.0</td>\n",
              "      <td>0.0</td>\n",
              "      <td>0.0</td>\n",
              "      <td>0.0</td>\n",
              "      <td>0.0</td>\n",
              "      <td>...</td>\n",
              "      <td>0.0</td>\n",
              "      <td>0.0</td>\n",
              "      <td>0.0</td>\n",
              "      <td>0.0</td>\n",
              "      <td>0.0</td>\n",
              "      <td>0.0</td>\n",
              "      <td>0.0</td>\n",
              "      <td>0.0</td>\n",
              "      <td>0.0</td>\n",
              "      <td>0.0</td>\n",
              "    </tr>\n",
              "  </tbody>\n",
              "</table>\n",
              "<p>2 rows × 784 columns</p>\n",
              "</div>\n",
              "    <div class=\"colab-df-buttons\">\n",
              "\n",
              "  <div class=\"colab-df-container\">\n",
              "    <button class=\"colab-df-convert\" onclick=\"convertToInteractive('df-fe40e21d-1ac0-4118-9e44-a1b57f134a12')\"\n",
              "            title=\"Convert this dataframe to an interactive table.\"\n",
              "            style=\"display:none;\">\n",
              "\n",
              "  <svg xmlns=\"http://www.w3.org/2000/svg\" height=\"24px\" viewBox=\"0 -960 960 960\">\n",
              "    <path d=\"M120-120v-720h720v720H120Zm60-500h600v-160H180v160Zm220 220h160v-160H400v160Zm0 220h160v-160H400v160ZM180-400h160v-160H180v160Zm440 0h160v-160H620v160ZM180-180h160v-160H180v160Zm440 0h160v-160H620v160Z\"/>\n",
              "  </svg>\n",
              "    </button>\n",
              "\n",
              "  <style>\n",
              "    .colab-df-container {\n",
              "      display:flex;\n",
              "      gap: 12px;\n",
              "    }\n",
              "\n",
              "    .colab-df-convert {\n",
              "      background-color: #E8F0FE;\n",
              "      border: none;\n",
              "      border-radius: 50%;\n",
              "      cursor: pointer;\n",
              "      display: none;\n",
              "      fill: #1967D2;\n",
              "      height: 32px;\n",
              "      padding: 0 0 0 0;\n",
              "      width: 32px;\n",
              "    }\n",
              "\n",
              "    .colab-df-convert:hover {\n",
              "      background-color: #E2EBFA;\n",
              "      box-shadow: 0px 1px 2px rgba(60, 64, 67, 0.3), 0px 1px 3px 1px rgba(60, 64, 67, 0.15);\n",
              "      fill: #174EA6;\n",
              "    }\n",
              "\n",
              "    .colab-df-buttons div {\n",
              "      margin-bottom: 4px;\n",
              "    }\n",
              "\n",
              "    [theme=dark] .colab-df-convert {\n",
              "      background-color: #3B4455;\n",
              "      fill: #D2E3FC;\n",
              "    }\n",
              "\n",
              "    [theme=dark] .colab-df-convert:hover {\n",
              "      background-color: #434B5C;\n",
              "      box-shadow: 0px 1px 3px 1px rgba(0, 0, 0, 0.15);\n",
              "      filter: drop-shadow(0px 1px 2px rgba(0, 0, 0, 0.3));\n",
              "      fill: #FFFFFF;\n",
              "    }\n",
              "  </style>\n",
              "\n",
              "    <script>\n",
              "      const buttonEl =\n",
              "        document.querySelector('#df-fe40e21d-1ac0-4118-9e44-a1b57f134a12 button.colab-df-convert');\n",
              "      buttonEl.style.display =\n",
              "        google.colab.kernel.accessAllowed ? 'block' : 'none';\n",
              "\n",
              "      async function convertToInteractive(key) {\n",
              "        const element = document.querySelector('#df-fe40e21d-1ac0-4118-9e44-a1b57f134a12');\n",
              "        const dataTable =\n",
              "          await google.colab.kernel.invokeFunction('convertToInteractive',\n",
              "                                                    [key], {});\n",
              "        if (!dataTable) return;\n",
              "\n",
              "        const docLinkHtml = 'Like what you see? Visit the ' +\n",
              "          '<a target=\"_blank\" href=https://colab.research.google.com/notebooks/data_table.ipynb>data table notebook</a>'\n",
              "          + ' to learn more about interactive tables.';\n",
              "        element.innerHTML = '';\n",
              "        dataTable['output_type'] = 'display_data';\n",
              "        await google.colab.output.renderOutput(dataTable, element);\n",
              "        const docLink = document.createElement('div');\n",
              "        docLink.innerHTML = docLinkHtml;\n",
              "        element.appendChild(docLink);\n",
              "      }\n",
              "    </script>\n",
              "  </div>\n",
              "\n",
              "\n",
              "<div id=\"df-ee75529b-73b8-43de-9867-de45114ca959\">\n",
              "  <button class=\"colab-df-quickchart\" onclick=\"quickchart('df-ee75529b-73b8-43de-9867-de45114ca959')\"\n",
              "            title=\"Suggest charts\"\n",
              "            style=\"display:none;\">\n",
              "\n",
              "<svg xmlns=\"http://www.w3.org/2000/svg\" height=\"24px\"viewBox=\"0 0 24 24\"\n",
              "     width=\"24px\">\n",
              "    <g>\n",
              "        <path d=\"M19 3H5c-1.1 0-2 .9-2 2v14c0 1.1.9 2 2 2h14c1.1 0 2-.9 2-2V5c0-1.1-.9-2-2-2zM9 17H7v-7h2v7zm4 0h-2V7h2v10zm4 0h-2v-4h2v4z\"/>\n",
              "    </g>\n",
              "</svg>\n",
              "  </button>\n",
              "\n",
              "<style>\n",
              "  .colab-df-quickchart {\n",
              "      --bg-color: #E8F0FE;\n",
              "      --fill-color: #1967D2;\n",
              "      --hover-bg-color: #E2EBFA;\n",
              "      --hover-fill-color: #174EA6;\n",
              "      --disabled-fill-color: #AAA;\n",
              "      --disabled-bg-color: #DDD;\n",
              "  }\n",
              "\n",
              "  [theme=dark] .colab-df-quickchart {\n",
              "      --bg-color: #3B4455;\n",
              "      --fill-color: #D2E3FC;\n",
              "      --hover-bg-color: #434B5C;\n",
              "      --hover-fill-color: #FFFFFF;\n",
              "      --disabled-bg-color: #3B4455;\n",
              "      --disabled-fill-color: #666;\n",
              "  }\n",
              "\n",
              "  .colab-df-quickchart {\n",
              "    background-color: var(--bg-color);\n",
              "    border: none;\n",
              "    border-radius: 50%;\n",
              "    cursor: pointer;\n",
              "    display: none;\n",
              "    fill: var(--fill-color);\n",
              "    height: 32px;\n",
              "    padding: 0;\n",
              "    width: 32px;\n",
              "  }\n",
              "\n",
              "  .colab-df-quickchart:hover {\n",
              "    background-color: var(--hover-bg-color);\n",
              "    box-shadow: 0 1px 2px rgba(60, 64, 67, 0.3), 0 1px 3px 1px rgba(60, 64, 67, 0.15);\n",
              "    fill: var(--button-hover-fill-color);\n",
              "  }\n",
              "\n",
              "  .colab-df-quickchart-complete:disabled,\n",
              "  .colab-df-quickchart-complete:disabled:hover {\n",
              "    background-color: var(--disabled-bg-color);\n",
              "    fill: var(--disabled-fill-color);\n",
              "    box-shadow: none;\n",
              "  }\n",
              "\n",
              "  .colab-df-spinner {\n",
              "    border: 2px solid var(--fill-color);\n",
              "    border-color: transparent;\n",
              "    border-bottom-color: var(--fill-color);\n",
              "    animation:\n",
              "      spin 1s steps(1) infinite;\n",
              "  }\n",
              "\n",
              "  @keyframes spin {\n",
              "    0% {\n",
              "      border-color: transparent;\n",
              "      border-bottom-color: var(--fill-color);\n",
              "      border-left-color: var(--fill-color);\n",
              "    }\n",
              "    20% {\n",
              "      border-color: transparent;\n",
              "      border-left-color: var(--fill-color);\n",
              "      border-top-color: var(--fill-color);\n",
              "    }\n",
              "    30% {\n",
              "      border-color: transparent;\n",
              "      border-left-color: var(--fill-color);\n",
              "      border-top-color: var(--fill-color);\n",
              "      border-right-color: var(--fill-color);\n",
              "    }\n",
              "    40% {\n",
              "      border-color: transparent;\n",
              "      border-right-color: var(--fill-color);\n",
              "      border-top-color: var(--fill-color);\n",
              "    }\n",
              "    60% {\n",
              "      border-color: transparent;\n",
              "      border-right-color: var(--fill-color);\n",
              "    }\n",
              "    80% {\n",
              "      border-color: transparent;\n",
              "      border-right-color: var(--fill-color);\n",
              "      border-bottom-color: var(--fill-color);\n",
              "    }\n",
              "    90% {\n",
              "      border-color: transparent;\n",
              "      border-bottom-color: var(--fill-color);\n",
              "    }\n",
              "  }\n",
              "</style>\n",
              "\n",
              "  <script>\n",
              "    async function quickchart(key) {\n",
              "      const quickchartButtonEl =\n",
              "        document.querySelector('#' + key + ' button');\n",
              "      quickchartButtonEl.disabled = true;  // To prevent multiple clicks.\n",
              "      quickchartButtonEl.classList.add('colab-df-spinner');\n",
              "      try {\n",
              "        const charts = await google.colab.kernel.invokeFunction(\n",
              "            'suggestCharts', [key], {});\n",
              "      } catch (error) {\n",
              "        console.error('Error during call to suggestCharts:', error);\n",
              "      }\n",
              "      quickchartButtonEl.classList.remove('colab-df-spinner');\n",
              "      quickchartButtonEl.classList.add('colab-df-quickchart-complete');\n",
              "    }\n",
              "    (() => {\n",
              "      let quickchartButtonEl =\n",
              "        document.querySelector('#df-ee75529b-73b8-43de-9867-de45114ca959 button');\n",
              "      quickchartButtonEl.style.display =\n",
              "        google.colab.kernel.accessAllowed ? 'block' : 'none';\n",
              "    })();\n",
              "  </script>\n",
              "</div>\n",
              "    </div>\n",
              "  </div>\n"
            ]
          },
          "metadata": {},
          "execution_count": 6
        }
      ],
      "source": [
        "mnist.data.head(2)"
      ]
    },
    {
      "cell_type": "markdown",
      "metadata": {
        "id": "ZU2id6Ig5Blb"
      },
      "source": [
        "'Target' indicates the category to which each of the pixel encodings belongs."
      ]
    },
    {
      "cell_type": "code",
      "execution_count": null,
      "metadata": {
        "id": "euAyxfOa5Blb",
        "outputId": "55581370-db0b-4e5c-dd10-cef7cdcd0d0a",
        "colab": {
          "base_uri": "https://localhost:8080/"
        }
      },
      "outputs": [
        {
          "output_type": "execute_result",
          "data": {
            "text/plain": [
              "0    5\n",
              "1    0\n",
              "Name: class, dtype: category\n",
              "Categories (10, object): ['0', '1', '2', '3', ..., '6', '7', '8', '9']"
            ]
          },
          "metadata": {},
          "execution_count": 7
        }
      ],
      "source": [
        "mnist.target.head(2)"
      ]
    },
    {
      "cell_type": "markdown",
      "metadata": {
        "id": "pIrXf2Nz5Bld"
      },
      "source": [
        "- 'frame' is the consolidation of 'data' and 'target'.\n",
        "\n",
        "- 'categories' indicate the categories with which this dataset has, from 0 to 9.\n",
        "\n",
        "- 'DESCR' gives us a description of the data, such as the author, the link where they are found, and a description of what the dataset contains.\n",
        "\n",
        "- 'details' is a dictionary with the summarized information of DESCR.\n"
      ]
    },
    {
      "cell_type": "markdown",
      "metadata": {
        "id": "WivaDRw85Bld"
      },
      "source": [
        "We will visualize how one of these images looks like. With this said, exemplifying with some striking colors would indicate the representation of this intensity"
      ]
    },
    {
      "cell_type": "code",
      "execution_count": null,
      "metadata": {
        "id": "K18NiSAs5Bld",
        "outputId": "e57dd02d-b8f9-4ddf-d62c-bf7d4894669b",
        "colab": {
          "base_uri": "https://localhost:8080/",
          "height": 448
        }
      },
      "outputs": [
        {
          "output_type": "execute_result",
          "data": {
            "text/plain": [
              "<matplotlib.image.AxesImage at 0x7fab843d3010>"
            ]
          },
          "metadata": {},
          "execution_count": 8
        },
        {
          "output_type": "display_data",
          "data": {
            "text/plain": [
              "<Figure size 640x480 with 1 Axes>"
            ],
            "image/png": "[encoded data removed]"
          },
          "metadata": {}
        }
      ],
      "source": [
        "plt.imshow(np.reshape(mnist.data.iloc[33].values, (28, 28)))"
      ]
    },
    {
      "cell_type": "markdown",
      "metadata": {
        "id": "o1gVNB6z5Bld"
      },
      "source": [
        "### Data understanding and cleansing"
      ]
    },
    {
      "cell_type": "markdown",
      "metadata": {
        "id": "HZvnzTWt5Ble"
      },
      "source": [
        "Understanding data is an important part of project analysis and comparison, and it involves a thorough study and analysis of existing data to understand its nature and quality. This includes identifying trends, patterns, and relationships between variables, as well as identifying and correcting missing or incorrect information. The goal is to carefully observe the data on which decisions are based, create accurate models, and identify possibilities, ensuring sound analysis and reliable results.\n",
        "\n",
        "Given that the database with which we are working is constructed data, it has very good data quality.\n"
      ]
    },
    {
      "cell_type": "markdown",
      "metadata": {
        "id": "gi5LAMmY5Blf"
      },
      "source": [
        "We present the dimensions of each of the training and testing sets, and we also present an observation, but presenting it in grayscale for correct observation."
      ]
    },
    {
      "cell_type": "code",
      "execution_count": null,
      "metadata": {
        "id": "vqb6WCh25Blf",
        "outputId": "a0cb3588-a100-45a6-da5a-d87c69862139",
        "colab": {
          "base_uri": "https://localhost:8080/",
          "height": 448
        }
      },
      "outputs": [
        {
          "output_type": "execute_result",
          "data": {
            "text/plain": [
              "<matplotlib.image.AxesImage at 0x7fab8454b3a0>"
            ]
          },
          "metadata": {},
          "execution_count": 9
        },
        {
          "output_type": "display_data",
          "data": {
            "text/plain": [
              "<Figure size 640x480 with 1 Axes>"
            ],
            "image/png": "[encoded data removed]"
          },
          "metadata": {}
        }
      ],
      "source": [
        "plt.imshow(np.reshape(mnist.data.iloc[33].values, (28, 28)),cmap='gray')"
      ]
    },
    {
      "cell_type": "code",
      "execution_count": null,
      "metadata": {
        "id": "Nal9yedp5Blg",
        "outputId": "cdb0c575-7e30-4704-fa6b-7c9f40ac397e",
        "colab": {
          "base_uri": "https://localhost:8080/",
          "height": 470
        }
      },
      "outputs": [
        {
          "output_type": "stream",
          "name": "stdout",
          "text": [
            "Dimensiones del conjunto de datos: (70000, 784)\n"
          ]
        },
        {
          "output_type": "display_data",
          "data": {
            "text/plain": [
              "<Figure size 640x480 with 1 Axes>"
            ],
            "image/png": "[encoded data removed]"
          },
          "metadata": {}
        }
      ],
      "source": [
        "# Dimensiones de los conjuntos de entrenamiento y prueba\n",
        "print(\"Dimensiones del conjunto de datos:\", mnist.data.shape)\n",
        "\n",
        "# Visualizar una imagen de ejemplo\n",
        "plt.imshow(np.reshape(mnist.data.loc[33].values, (28, 28)),cmap='gray')\n",
        "plt.title(f\"Etiqueta: {mnist.target.loc[33]}\")\n",
        "plt.show()"
      ]
    },
    {
      "cell_type": "markdown",
      "metadata": {
        "id": "aBpse70t5Blg"
      },
      "source": [
        "Showing each one of the numbers, \"Classes / Categories\""
      ]
    },
    {
      "cell_type": "code",
      "execution_count": null,
      "metadata": {
        "id": "ZBXv_M2i5Blh"
      },
      "outputs": [],
      "source": [
        "target = mnist.target.to_frame()\n",
        "data = mnist.data"
      ]
    },
    {
      "cell_type": "code",
      "execution_count": null,
      "metadata": {
        "id": "9MbKW_lK5Bli",
        "outputId": "47f2afda-87e2-4fb3-aa63-7d326f6f2dfb",
        "colab": {
          "base_uri": "https://localhost:8080/",
          "height": 614
        }
      },
      "outputs": [
        {
          "output_type": "display_data",
          "data": {
            "text/plain": [
              "<Figure size 1000x700 with 10 Axes>"
            ],
            "image/png": "[encoded data removed]"
          },
          "metadata": {}
        }
      ],
      "source": [
        "# crear subplots por número\n",
        "fig, ax = plt.subplots(2,5, figsize=(10,7))\n",
        "for i, ax in enumerate(ax.flatten()):\n",
        "    img_idx: int = target[target['class'] == str(i)].index[0]\n",
        "    # tomar cada imagen y reescalar 28X28\n",
        "    img: np.ndarray = np.reshape(data.iloc[img_idx].values, (28, 28))\n",
        "    ax.imshow(img, cmap=\"gray_r\") #plotear en escala de grises\n",
        "    ax.set_title(f\"Label: {i}\") #agregar etiqueta\n",
        "    ax.grid(False)\n",
        "fig.suptitle(\"Registros con sus respectivas etiquetas\")\n",
        "plt.show()"
      ]
    },
    {
      "cell_type": "markdown",
      "metadata": {
        "id": "j-IUcy9i5Blv"
      },
      "source": [
        "We will see the number of classes/categories in the dataset, the classes in this case we consider from number 0 to 9. We also want to see the number of examples that each class counts, this is important since we need to identify if there is a class with a higher number of examples than the other classes.\n",
        "\n",
        "We will present the mean of pixels and the deviation of pixels between photographs."
      ]
    },
    {
      "cell_type": "code",
      "execution_count": null,
      "metadata": {
        "id": "59RZsikt5Blv",
        "outputId": "d1a07903-e7f0-4ee2-fea0-9ef85e061a7d",
        "colab": {
          "base_uri": "https://localhost:8080/"
        }
      },
      "outputs": [
        {
          "output_type": "stream",
          "name": "stdout",
          "text": [
            "Número de clases: 10\n",
            "Distribución de clases: {'0': 6903, '1': 7877, '2': 6990, '3': 7141, '4': 6824, '5': 6313, '6': 6876, '7': 7293, '8': 6825, '9': 6958}\n"
          ]
        },
        {
          "output_type": "stream",
          "name": "stderr",
          "text": [
            "/usr/local/lib/python3.10/dist-packages/numpy/core/fromnumeric.py:3430: FutureWarning: In a future version, DataFrame.mean(axis=None) will return a scalar mean over the entire DataFrame. To retain the old behavior, use 'frame.mean(axis=0)' or just 'frame.mean()'\n",
            "  return mean(axis=axis, dtype=dtype, out=out, **kwargs)\n"
          ]
        },
        {
          "output_type": "stream",
          "name": "stdout",
          "text": [
            "Media de píxeles: pixel1      0.000000\n",
            "pixel2      0.000000\n",
            "pixel3      0.000000\n",
            "pixel4      0.000000\n",
            "pixel5      0.000000\n",
            "              ...   \n",
            "pixel780    0.001714\n",
            "pixel781    0.000000\n",
            "pixel782    0.000000\n",
            "pixel783    0.000000\n",
            "pixel784    0.000000\n",
            "Length: 784, dtype: float64\n",
            "Promedio desviación estándar de píxeles: 49.255352298398286\n"
          ]
        }
      ],
      "source": [
        "# Número de clases (dígitos)\n",
        "num_classes = len(np.unique(target))\n",
        "print(\"Número de clases:\", num_classes)\n",
        "\n",
        "# Distribución de clases\n",
        "unique, counts = np.unique(target, return_counts=True)\n",
        "class_distribution = dict(zip(unique, counts))\n",
        "print(\"Distribución de clases:\", class_distribution)\n",
        "\n",
        "# Estadísticas descriptivas de píxeles\n",
        "pixel_mean = np.mean(data)\n",
        "pixel_std = np.std(data)\n",
        "print(\"Media de píxeles:\", pixel_mean)\n",
        "print(\"Promedio desviación estándar de píxeles:\", np.mean(pixel_std))"
      ]
    },
    {
      "cell_type": "markdown",
      "metadata": {
        "id": "7I6MZeKN5Blw"
      },
      "source": [
        "**Independence**:\n",
        "\n",
        "One of the assumptions of the Naive Bayes model, which is the one that will be covered in this Notebook, is the independence between variables. With this, we will visualize the variables that have a correlation threshold of less than 0.1 or -0.1 since this suggests that the variables are mostly independent of each other."
      ]
    },
    {
      "cell_type": "markdown",
      "metadata": {
        "id": "-9Y7rE0s5Blx"
      },
      "source": [
        "To avoid getting into technical details with hypothesis tests, regression analysis, residuals, etc., we have that if most of the correlation values in the matrix are close to zero or very small (-0.1 and 0.1), this suggests that the variables are mostly independent of each other. This may be a somewhat non-robust approach given that it does not guarantee absolute independence, but it can be a good approach to this analysis"
      ]
    },
    {
      "cell_type": "code",
      "execution_count": null,
      "metadata": {
        "id": "eiKR38sH5Bly",
        "outputId": "406fe526-f4bb-4242-aab8-72c3195d5073",
        "colab": {
          "base_uri": "https://localhost:8080/"
        }
      },
      "outputs": [
        {
          "output_type": "stream",
          "name": "stdout",
          "text": [
            "La proporción de correlaciones en el rango (-0.1, 0.1) es: 0.7150145772594753\n",
            "La proporción no es baja, lo que sugiere cierta dependencia entre variables.\n"
          ]
        }
      ],
      "source": [
        "# Calcular la matriz de correlación\n",
        "matriz_correlacion = data.corr()\n",
        "# Definir el rango de correlación\n",
        "limite_inferior = -0.1\n",
        "limite_superior = 0.1\n",
        "# Contar las correlaciones en el rango definido\n",
        "correlaciones_en_rango = ((matriz_correlacion >= limite_inferior) & (matriz_correlacion <= limite_superior)).sum().sum()\n",
        "# Calcular la proporción de correlaciones en el rango\n",
        "total_correlaciones = matriz_correlacion.size\n",
        "proporcion_correlaciones_en_rango = correlaciones_en_rango / total_correlaciones\n",
        "# Imprimir la proporción y evaluar si es baja o alta\n",
        "print(f\"La proporción de correlaciones en el rango ({limite_inferior}, {limite_superior}) es: {proporcion_correlaciones_en_rango}\")\n",
        "if proporcion_correlaciones_en_rango < 0.5:\n",
        "    print(\"La proporción es baja, lo que sugiere independencia relativa entre variables.\")\n",
        "else:\n",
        "    print(\"La proporción no es baja, lo que sugiere cierta dependencia entre variables.\")"
      ]
    },
    {
      "cell_type": "markdown",
      "metadata": {
        "id": "JHoKC8oZ5Blz"
      },
      "source": [
        "We can also use a method to easily check for dependence or multicollinearity. This tells us that if the determinant of a correlation matrix is equal to zero, this may indicate that there is a significant linear dependence between at least some of the variables in your data.\n",
        "\n",
        "Before proceeding with this validation, it is correct to remove columns that have a variance equal to zero before calculating the determinant of the correlation matrix. A constant variable has no variability and does not contribute to the correlation relationships with other variables. Therefore, removing these columns will not negatively affect the quality of the correlation matrix and may help you avoid numerical problems, such as singularity (mathematical property of a matrix in which it is not possible to calculate its inverse)."
      ]
    },
    {
      "cell_type": "code",
      "execution_count": null,
      "metadata": {
        "id": "JP8JI5Vv5Bl0",
        "outputId": "51db45a4-8bd9-4d56-a6d2-a46b7f67306e",
        "colab": {
          "base_uri": "https://localhost:8080/"
        }
      },
      "outputs": [
        {
          "output_type": "stream",
          "name": "stdout",
          "text": [
            "El determinante es aproximadamente cero, lo que indica multicolinealidad.\n"
          ]
        }
      ],
      "source": [
        "# Calcular el determinante de la matriz de correlación\n",
        "warnings.filterwarnings(\"ignore\")\n",
        "df_sin_varianza_cero = data.loc[:, data.var() != 0]\n",
        "matriz_correlacion = df_sin_varianza_cero.corr()\n",
        "determinante = np.linalg.det(matriz_correlacion.to_numpy())\n",
        "# Verificar si el determinante es igual a cero (indicación de multicolinealidad)\n",
        "if abs(determinante) < 0.1:\n",
        "    print(\"El determinante es aproximadamente cero, lo que indica multicolinealidad.\")\n",
        "else:\n",
        "    print(\"El determinante no es igual a cero, lo que sugiere que no hay multicolinealidad significativa.\")"
      ]
    },
    {
      "cell_type": "markdown",
      "metadata": {
        "id": "LaRAF9ib5Bl2"
      },
      "source": [
        "Principal components analysis (PCA) is a multivariate analysis technique that allows you to reduce the dimensionality of data and find components that are linearly independent. With this said about this methodology, we can proceed with it to guarantee the biggest assumption that Naive Bayes has."
      ]
    },
    {
      "cell_type": "markdown",
      "metadata": {
        "id": "vq8Lr4Q-5Bl3"
      },
      "source": [
        "** Data Balancing**\n",
        "\n",
        "Data classification validation is critical in classification problems because it affects the performance of machine learning models. These algorithms frequently experience class imbalance, which causes bias and makes it difficult to predict large subgroups. Additionally, it avoids overfitting and ensures accurate and reliable interpretation of results, which is essential for finding a model that is stable in practical settings and for making accurate and reliable data-driven decisions."
      ]
    },
    {
      "cell_type": "code",
      "execution_count": null,
      "metadata": {
        "id": "0y82lntC5Bl3",
        "outputId": "87509353-f73c-463b-eed6-b0d66f60e420",
        "colab": {
          "base_uri": "https://localhost:8080/",
          "height": 487
        }
      },
      "outputs": [
        {
          "output_type": "display_data",
          "data": {
            "text/plain": [
              "<Figure size 640x480 with 1 Axes>"
            ],
            "image/png": "[encoded data removed]"
          },
          "metadata": {}
        }
      ],
      "source": [
        "# Calcular la distribución de clases en porcentajes\n",
        "distribucion_porcentual = target['class'].value_counts(normalize=True) * 100\n",
        "# Crear un gráfico de barras con porcentajes\n",
        "plt.bar(distribucion_porcentual.index, distribucion_porcentual.values, color='skyblue')\n",
        "plt.xlabel('Clases')\n",
        "plt.ylabel('Porcentaje')\n",
        "plt.title('Distribución de porcentual de clases')\n",
        "# Establecer el límite del eje y de 0 a 100 para representar porcentajes\n",
        "plt.ylim(0, 100)\n",
        "\n",
        "# Ajustar el límite superior del eje y para mostrar más allá del 15%\n",
        "plt.ylim(0, max(distribucion_porcentual.values) + 1)  # Ajustar límite superior\n",
        "\n",
        "plt.xticks(rotation=0)  # Evitar rotación de etiquetas en el eje x\n",
        "plt.grid(axis='y', linestyle='--', alpha=0.7)  # Agregar líneas de referencia horizontal\n",
        "plt.gca().yaxis.set_major_formatter('{:.1f}%'.format)  # Formato de porcentaje en el eje y\n",
        "plt.tight_layout()  # Ajustar el diseño del gráfico\n",
        "plt.show()"
      ]
    },
    {
      "cell_type": "markdown",
      "metadata": {
        "id": "XLYW_52g5Bl4"
      },
      "source": [
        "At this point, we see that the data imbalance is not visually relevant. To quantify this hypothesis, we should proceed with some methodology that helps us say if that difference is significant. Since we are not focused on this at the moment, we will proceed with data balancing with the possibility that readers have a tool on how to proceed if this difference is significant.\n",
        "\n",
        "In the same way, we quantify the greatest differences that exist in these categories:"
      ]
    },
    {
      "cell_type": "code",
      "execution_count": null,
      "metadata": {
        "id": "b5HHlufZ5Bl5",
        "outputId": "718f1014-5fb2-4c33-9cf6-881338331a96",
        "colab": {
          "base_uri": "https://localhost:8080/"
        }
      },
      "outputs": [
        {
          "output_type": "stream",
          "name": "stdout",
          "text": [
            "Categoría más frecuente: 1\n",
            "Categoría menos frecuente: 5\n",
            "Diferencia en términos de frecuencia: 1564\n",
            "Diferencia en términos de porcentaje: 2.23%\n"
          ]
        }
      ],
      "source": [
        "# Calcular la distribución de clases en términos de frecuencia\n",
        "distribucion_frecuencia = target['class'].value_counts()\n",
        "# Obtener la categoría que tiene más observaciones\n",
        "categoria_mas_frecuente = distribucion_frecuencia.idxmax()\n",
        "# Obtener la categoría que tiene menos observaciones\n",
        "categoria_menos_frecuente = distribucion_frecuencia.idxmin()\n",
        "# Calcular la diferencia en términos de frecuencia\n",
        "diferencia_frecuencia = distribucion_frecuencia[categoria_mas_frecuente] - distribucion_frecuencia[categoria_menos_frecuente]\n",
        "# Calcular la diferencia en términos de porcentaje\n",
        "total_muestras = len(target)\n",
        "porcentaje_mas_frecuente = (distribucion_frecuencia[categoria_mas_frecuente] / total_muestras) * 100\n",
        "porcentaje_menos_frecuente = (distribucion_frecuencia[categoria_menos_frecuente] / total_muestras) * 100\n",
        "diferencia_porcentaje = porcentaje_mas_frecuente - porcentaje_menos_frecuente\n",
        "\n",
        "print(f\"Categoría más frecuente: {categoria_mas_frecuente}\")\n",
        "print(f\"Categoría menos frecuente: {categoria_menos_frecuente}\")\n",
        "print(f\"Diferencia en términos de frecuencia: {diferencia_frecuencia}\")\n",
        "print(f\"Diferencia en términos de porcentaje: {diferencia_porcentaje:.2f}%\")\n"
      ]
    },
    {
      "cell_type": "markdown",
      "metadata": {
        "id": "vBL2Hz1C5Bl6"
      },
      "source": [
        "We proceed with data balancing"
      ]
    },
    {
      "cell_type": "code",
      "execution_count": null,
      "metadata": {
        "id": "XalAt-8y5Bl6",
        "outputId": "7098af1a-027b-4f79-b2cd-67803dd4fcf2",
        "colab": {
          "base_uri": "https://localhost:8080/",
          "height": 565
        }
      },
      "outputs": [
        {
          "output_type": "display_data",
          "data": {
            "text/plain": [
              "<Figure size 800x600 with 1 Axes>"
            ],
            "image/png": "[encoded data removed]"
          },
          "metadata": {}
        }
      ],
      "source": [
        "mnist_consolidado = pd.concat([mnist.data, mnist.target], axis = 1)\n",
        "# Se selecciona la cantidad mínima entre las clases\n",
        "min_clase = mnist_consolidado['class'].value_counts().min()\n",
        "# Crea un DataFrame vacío para almacenar las muestras equilibradas\n",
        "df_balanceado_final = pd.DataFrame()\n",
        "# Realiza el muestreo estratificado para cada categoría\n",
        "for clase in mnist_consolidado['class'].unique():\n",
        "    clase_df = mnist_consolidado[mnist_consolidado['class'] == clase]\n",
        "    muestras_equilibradas = resample(clase_df, replace=True, n_samples=min_clase)\n",
        "    df_balanceado_final = pd.concat([df_balanceado_final, muestras_equilibradas])\n",
        "df_balanceado_final.rename(columns={'class': 'target'}, inplace=True)\n",
        "# Verificar la distribución de clases después del balanceo y creación de gráfico\n",
        "plt.figure(figsize=(8, 6))\n",
        "df_balanceado_final['target'].value_counts().sort_index().plot(kind='bar', color='skyblue')\n",
        "plt.xticks(rotation=0)  # Evitar rotación de etiquetas en el eje x\n",
        "plt.grid(axis='y', linestyle='--', alpha=0.7)  # Agregar líneas de referencia horizontal\n",
        "plt.xlabel('Categorías')\n",
        "plt.ylabel('Cantidad de Registros')\n",
        "plt.title('Distribución de Categorías Balanceadas (Orden Ascendente)')\n",
        "plt.show()"
      ]
    },
    {
      "cell_type": "markdown",
      "metadata": {
        "id": "HtAhOpN65Bl8"
      },
      "source": [
        "### Modellinng"
      ]
    },
    {
      "cell_type": "markdown",
      "metadata": {
        "id": "zMKdLbOC5Bl9"
      },
      "source": [
        "As a first step, we must separate the data into two groups: the model training data and the test data. To evaluate the performance of a model in an unbiased way, we divide the database into these two aforementioned groups. The training data is used to create and adjust the model, and the test data is only used to evaluate the performance of the model on data that has not been seen before. This helps to evaluate the generalization of the model and avoid overfitting, ensuring that it is applicable in real-world scenarios."
      ]
    },
    {
      "cell_type": "code",
      "execution_count": null,
      "metadata": {
        "id": "gleIdPtK5Bl9",
        "outputId": "a9342acc-4310-471f-f971-63568cdff2ad",
        "colab": {
          "base_uri": "https://localhost:8080/"
        }
      },
      "outputs": [
        {
          "output_type": "stream",
          "name": "stdout",
          "text": [
            "Tamaño del conjunto de entrenamiento: 44191\n",
            "Tamaño del conjunto de prueba: 18939\n"
          ]
        }
      ],
      "source": [
        "# Especificar las características (X) y la variable objetivo (y)\n",
        "X = df_balanceado_final.drop('target', axis=1)\n",
        "y = df_balanceado_final['target']\n",
        "# Dividir los datos en entrenamiento (70%) y prueba (30%)\n",
        "X_train, X_test, y_train, y_test = train_test_split(X, y, test_size=0.3)\n",
        "# Verificar el tamaño de los conjuntos de entrenamiento y prueba\n",
        "print(\"Tamaño del conjunto de entrenamiento:\", len(X_train))\n",
        "print(\"Tamaño del conjunto de prueba:\", len(X_test))"
      ]
    },
    {
      "cell_type": "code",
      "execution_count": null,
      "metadata": {
        "id": "p46pmSxv5Bl9"
      },
      "outputs": [],
      "source": [
        "X_train.reset_index(drop=True, inplace=True)\n",
        "X_test.reset_index(drop=True, inplace=True)\n",
        "y_train.reset_index(drop=True, inplace=True)\n",
        "y_test.reset_index(drop=True, inplace=True)"
      ]
    },
    {
      "cell_type": "markdown",
      "metadata": {
        "id": "I9o8m8vM5Bl-"
      },
      "source": [
        "Since we noticed a dependency between the original variables in previous steps, Principal Component Analysis is used to establish new independent variables. This is significant because the main assumption of Naive Bayes is that the different predictive models are independent of each other. The original Naive Bayes objective can be better achieved and the interdependence between variables can be reduced by converting the original variables into large uncorrelated components. This will improve the fit of the model and its ability to make accurate predictions"
      ]
    },
    {
      "cell_type": "code",
      "execution_count": null,
      "metadata": {
        "id": "4QUPEuN75Bl_",
        "outputId": "abd20012-0c62-4390-e395-8ef8ce64b0cd",
        "colab": {
          "base_uri": "https://localhost:8080/"
        }
      },
      "outputs": [
        {
          "output_type": "stream",
          "name": "stdout",
          "text": [
            "Número de componentes principales seleccionadas: 153\n"
          ]
        }
      ],
      "source": [
        "# Inicializar el objeto PCA con la cantidad de varianza explicada deseada (0.95)\n",
        "pca = PCA(n_components=0.95)\n",
        "# Aplicar PCA a los datos de entrenamiento\n",
        "X_train_pca = pca.fit_transform(X_train)\n",
        "# Aplicar la misma transformación PCA a los datos de prueba\n",
        "X_test_pca = pca.transform(X_test)\n",
        "# Crear nuevos DataFrames con las componentes principales para entrenamiento y prueba\n",
        "df_train_pca = pd.DataFrame(data=X_train_pca)\n",
        "df_test_pca = pd.DataFrame(data=X_test_pca)\n",
        "# Verificar la cantidad de componentes principales seleccionadas\n",
        "n_componentes = pca.n_components_\n",
        "print(f\"Número de componentes principales seleccionadas: {n_componentes}\")"
      ]
    },
    {
      "cell_type": "markdown",
      "metadata": {
        "id": "p7L-J-kW5BmA"
      },
      "source": [
        "According to the characteristics of the original variables, which are considered different and similar, the principal components produced by the multivariate principal components methodology represent a reduction in the number of original data. This makes the study of Gaussian Naive Bayes models relevant in this situation.\n",
        "\n",
        "Because the components produced by PCA are approximately Gaussian due to their assumption of normality, we know that this assumption is not strictly met in all cases. In this case, we will assume it to be true to simplify the analysis.\n",
        "\n",
        "In addition, given that the principal components in this situation represent a continuous representation of the data, the other versions of the model that are for discrete data, such as polynomials and Bernoulli, are also ignored.\n",
        "\n",
        "Therefore, when making probabilistic predictions in an environment with continuous variables, Gaussian Naive Bayes becomes a logical option"
      ]
    },
    {
      "cell_type": "code",
      "execution_count": null,
      "metadata": {
        "id": "I394u_zQ5BmA",
        "outputId": "d9547eaf-26f2-46eb-c051-fc295fcaed71",
        "colab": {
          "base_uri": "https://localhost:8080/",
          "height": 75
        }
      },
      "outputs": [
        {
          "output_type": "execute_result",
          "data": {
            "text/plain": [
              "GaussianNB()"
            ],
            "text/html": [
              "<style>#sk-container-id-1 {color: black;background-color: white;}#sk-container-id-1 pre{padding: 0;}#sk-container-id-1 div.sk-toggleable {background-color: white;}#sk-container-id-1 label.sk-toggleable__label {cursor: pointer;display: block;width: 100%;margin-bottom: 0;padding: 0.3em;box-sizing: border-box;text-align: center;}#sk-container-id-1 label.sk-toggleable__label-arrow:before {content: \"▸\";float: left;margin-right: 0.25em;color: #696969;}#sk-container-id-1 label.sk-toggleable__label-arrow:hover:before {color: black;}#sk-container-id-1 div.sk-estimator:hover label.sk-toggleable__label-arrow:before {color: black;}#sk-container-id-1 div.sk-toggleable__content {max-height: 0;max-width: 0;overflow: hidden;text-align: left;background-color: #f0f8ff;}#sk-container-id-1 div.sk-toggleable__content pre {margin: 0.2em;color: black;border-radius: 0.25em;background-color: #f0f8ff;}#sk-container-id-1 input.sk-toggleable__control:checked~div.sk-toggleable__content {max-height: 200px;max-width: 100%;overflow: auto;}#sk-container-id-1 input.sk-toggleable__control:checked~label.sk-toggleable__label-arrow:before {content: \"▾\";}#sk-container-id-1 div.sk-estimator input.sk-toggleable__control:checked~label.sk-toggleable__label {background-color: #d4ebff;}#sk-container-id-1 div.sk-label input.sk-toggleable__control:checked~label.sk-toggleable__label {background-color: #d4ebff;}#sk-container-id-1 input.sk-hidden--visually {border: 0;clip: rect(1px 1px 1px 1px);clip: rect(1px, 1px, 1px, 1px);height: 1px;margin: -1px;overflow: hidden;padding: 0;position: absolute;width: 1px;}#sk-container-id-1 div.sk-estimator {font-family: monospace;background-color: #f0f8ff;border: 1px dotted black;border-radius: 0.25em;box-sizing: border-box;margin-bottom: 0.5em;}#sk-container-id-1 div.sk-estimator:hover {background-color: #d4ebff;}#sk-container-id-1 div.sk-parallel-item::after {content: \"\";width: 100%;border-bottom: 1px solid gray;flex-grow: 1;}#sk-container-id-1 div.sk-label:hover label.sk-toggleable__label {background-color: #d4ebff;}#sk-container-id-1 div.sk-serial::before {content: \"\";position: absolute;border-left: 1px solid gray;box-sizing: border-box;top: 0;bottom: 0;left: 50%;z-index: 0;}#sk-container-id-1 div.sk-serial {display: flex;flex-direction: column;align-items: center;background-color: white;padding-right: 0.2em;padding-left: 0.2em;position: relative;}#sk-container-id-1 div.sk-item {position: relative;z-index: 1;}#sk-container-id-1 div.sk-parallel {display: flex;align-items: stretch;justify-content: center;background-color: white;position: relative;}#sk-container-id-1 div.sk-item::before, #sk-container-id-1 div.sk-parallel-item::before {content: \"\";position: absolute;border-left: 1px solid gray;box-sizing: border-box;top: 0;bottom: 0;left: 50%;z-index: -1;}#sk-container-id-1 div.sk-parallel-item {display: flex;flex-direction: column;z-index: 1;position: relative;background-color: white;}#sk-container-id-1 div.sk-parallel-item:first-child::after {align-self: flex-end;width: 50%;}#sk-container-id-1 div.sk-parallel-item:last-child::after {align-self: flex-start;width: 50%;}#sk-container-id-1 div.sk-parallel-item:only-child::after {width: 0;}#sk-container-id-1 div.sk-dashed-wrapped {border: 1px dashed gray;margin: 0 0.4em 0.5em 0.4em;box-sizing: border-box;padding-bottom: 0.4em;background-color: white;}#sk-container-id-1 div.sk-label label {font-family: monospace;font-weight: bold;display: inline-block;line-height: 1.2em;}#sk-container-id-1 div.sk-label-container {text-align: center;}#sk-container-id-1 div.sk-container {/* jupyter's `normalize.less` sets `[hidden] { display: none; }` but bootstrap.min.css set `[hidden] { display: none !important; }` so we also need the `!important` here to be able to override the default hidden behavior on the sphinx rendered scikit-learn.org. See: https://github.com/scikit-learn/scikit-learn/issues/21755 */display: inline-block !important;position: relative;}#sk-container-id-1 div.sk-text-repr-fallback {display: none;}</style><div id=\"sk-container-id-1\" class=\"sk-top-container\"><div class=\"sk-text-repr-fallback\"><pre>GaussianNB()</pre><b>In a Jupyter environment, please rerun this cell to show the HTML representation or trust the notebook. <br />On GitHub, the HTML representation is unable to render, please try loading this page with nbviewer.org.</b></div><div class=\"sk-container\" hidden><div class=\"sk-item\"><div class=\"sk-estimator sk-toggleable\"><input class=\"sk-toggleable__control sk-hidden--visually\" id=\"sk-estimator-id-1\" type=\"checkbox\" checked><label for=\"sk-estimator-id-1\" class=\"sk-toggleable__label sk-toggleable__label-arrow\">GaussianNB</label><div class=\"sk-toggleable__content\"><pre>GaussianNB()</pre></div></div></div></div></div>"
            ]
          },
          "metadata": {},
          "execution_count": 23
        }
      ],
      "source": [
        "model = GaussianNB()\n",
        "model.fit(X_train_pca, y_train)"
      ]
    },
    {
      "cell_type": "code",
      "execution_count": null,
      "metadata": {
        "id": "vF1QTRu65BmA",
        "outputId": "ff421ff1-7de7-424d-8ff9-963f37ff018f",
        "colab": {
          "base_uri": "https://localhost:8080/"
        }
      },
      "outputs": [
        {
          "output_type": "execute_result",
          "data": {
            "text/plain": [
              "array(['2', '4', '1', ..., '3', '1', '2'], dtype='<U1')"
            ]
          },
          "metadata": {},
          "execution_count": 24
        }
      ],
      "source": [
        "pred_y = model.predict(X_test_pca)\n",
        "pred_y"
      ]
    },
    {
      "cell_type": "markdown",
      "metadata": {
        "id": "MIZbQ5__5BmB"
      },
      "source": [
        "### Model Evaluation"
      ]
    },
    {
      "cell_type": "markdown",
      "metadata": {
        "id": "gzYnFHZe5BmB"
      },
      "source": [
        "The performance of the selected model is intended to be evaluated under the assumptions, given that in this scenario only one model is available for evaluation. Therefore, another version of the model is proposed with the objective of analyzing its predictive ability and its effectiveness in the specific task."
      ]
    },
    {
      "cell_type": "markdown",
      "metadata": {
        "id": "QC7JEslQ5BmC"
      },
      "source": [
        "For this case, we will take the data that does not have the principal component processing to have the discrete and non-continuous variables, given that the method to be presented is the multinomial version of Naive Bayes. With this said, we will create the data sets for training and testing again, but with the raw data but balanced."
      ]
    },
    {
      "cell_type": "code",
      "execution_count": null,
      "metadata": {
        "id": "_7MHsnRk5BmD"
      },
      "outputs": [],
      "source": [
        "X_train_2, X_test_2, y_train_2, y_test_2 = train_test_split(X, y, test_size=0.3, random_state=42)"
      ]
    },
    {
      "cell_type": "markdown",
      "metadata": {
        "id": "ljvhzKyQ5BmF"
      },
      "source": [
        "Model Generation"
      ]
    },
    {
      "cell_type": "code",
      "execution_count": null,
      "metadata": {
        "id": "penxtEAu5BmI",
        "outputId": "0ded2ae9-5431-4266-b0b0-a6d522e85241",
        "colab": {
          "base_uri": "https://localhost:8080/",
          "height": 75
        }
      },
      "outputs": [
        {
          "output_type": "execute_result",
          "data": {
            "text/plain": [
              "BernoulliNB()"
            ],
            "text/html": [
              "<style>#sk-container-id-2 {color: black;background-color: white;}#sk-container-id-2 pre{padding: 0;}#sk-container-id-2 div.sk-toggleable {background-color: white;}#sk-container-id-2 label.sk-toggleable__label {cursor: pointer;display: block;width: 100%;margin-bottom: 0;padding: 0.3em;box-sizing: border-box;text-align: center;}#sk-container-id-2 label.sk-toggleable__label-arrow:before {content: \"▸\";float: left;margin-right: 0.25em;color: #696969;}#sk-container-id-2 label.sk-toggleable__label-arrow:hover:before {color: black;}#sk-container-id-2 div.sk-estimator:hover label.sk-toggleable__label-arrow:before {color: black;}#sk-container-id-2 div.sk-toggleable__content {max-height: 0;max-width: 0;overflow: hidden;text-align: left;background-color: #f0f8ff;}#sk-container-id-2 div.sk-toggleable__content pre {margin: 0.2em;color: black;border-radius: 0.25em;background-color: #f0f8ff;}#sk-container-id-2 input.sk-toggleable__control:checked~div.sk-toggleable__content {max-height: 200px;max-width: 100%;overflow: auto;}#sk-container-id-2 input.sk-toggleable__control:checked~label.sk-toggleable__label-arrow:before {content: \"▾\";}#sk-container-id-2 div.sk-estimator input.sk-toggleable__control:checked~label.sk-toggleable__label {background-color: #d4ebff;}#sk-container-id-2 div.sk-label input.sk-toggleable__control:checked~label.sk-toggleable__label {background-color: #d4ebff;}#sk-container-id-2 input.sk-hidden--visually {border: 0;clip: rect(1px 1px 1px 1px);clip: rect(1px, 1px, 1px, 1px);height: 1px;margin: -1px;overflow: hidden;padding: 0;position: absolute;width: 1px;}#sk-container-id-2 div.sk-estimator {font-family: monospace;background-color: #f0f8ff;border: 1px dotted black;border-radius: 0.25em;box-sizing: border-box;margin-bottom: 0.5em;}#sk-container-id-2 div.sk-estimator:hover {background-color: #d4ebff;}#sk-container-id-2 div.sk-parallel-item::after {content: \"\";width: 100%;border-bottom: 1px solid gray;flex-grow: 1;}#sk-container-id-2 div.sk-label:hover label.sk-toggleable__label {background-color: #d4ebff;}#sk-container-id-2 div.sk-serial::before {content: \"\";position: absolute;border-left: 1px solid gray;box-sizing: border-box;top: 0;bottom: 0;left: 50%;z-index: 0;}#sk-container-id-2 div.sk-serial {display: flex;flex-direction: column;align-items: center;background-color: white;padding-right: 0.2em;padding-left: 0.2em;position: relative;}#sk-container-id-2 div.sk-item {position: relative;z-index: 1;}#sk-container-id-2 div.sk-parallel {display: flex;align-items: stretch;justify-content: center;background-color: white;position: relative;}#sk-container-id-2 div.sk-item::before, #sk-container-id-2 div.sk-parallel-item::before {content: \"\";position: absolute;border-left: 1px solid gray;box-sizing: border-box;top: 0;bottom: 0;left: 50%;z-index: -1;}#sk-container-id-2 div.sk-parallel-item {display: flex;flex-direction: column;z-index: 1;position: relative;background-color: white;}#sk-container-id-2 div.sk-parallel-item:first-child::after {align-self: flex-end;width: 50%;}#sk-container-id-2 div.sk-parallel-item:last-child::after {align-self: flex-start;width: 50%;}#sk-container-id-2 div.sk-parallel-item:only-child::after {width: 0;}#sk-container-id-2 div.sk-dashed-wrapped {border: 1px dashed gray;margin: 0 0.4em 0.5em 0.4em;box-sizing: border-box;padding-bottom: 0.4em;background-color: white;}#sk-container-id-2 div.sk-label label {font-family: monospace;font-weight: bold;display: inline-block;line-height: 1.2em;}#sk-container-id-2 div.sk-label-container {text-align: center;}#sk-container-id-2 div.sk-container {/* jupyter's `normalize.less` sets `[hidden] { display: none; }` but bootstrap.min.css set `[hidden] { display: none !important; }` so we also need the `!important` here to be able to override the default hidden behavior on the sphinx rendered scikit-learn.org. See: https://github.com/scikit-learn/scikit-learn/issues/21755 */display: inline-block !important;position: relative;}#sk-container-id-2 div.sk-text-repr-fallback {display: none;}</style><div id=\"sk-container-id-2\" class=\"sk-top-container\"><div class=\"sk-text-repr-fallback\"><pre>BernoulliNB()</pre><b>In a Jupyter environment, please rerun this cell to show the HTML representation or trust the notebook. <br />On GitHub, the HTML representation is unable to render, please try loading this page with nbviewer.org.</b></div><div class=\"sk-container\" hidden><div class=\"sk-item\"><div class=\"sk-estimator sk-toggleable\"><input class=\"sk-toggleable__control sk-hidden--visually\" id=\"sk-estimator-id-2\" type=\"checkbox\" checked><label for=\"sk-estimator-id-2\" class=\"sk-toggleable__label sk-toggleable__label-arrow\">BernoulliNB</label><div class=\"sk-toggleable__content\"><pre>BernoulliNB()</pre></div></div></div></div></div>"
            ]
          },
          "metadata": {},
          "execution_count": 26
        }
      ],
      "source": [
        "model_2 = BernoulliNB()\n",
        "model_2.fit(X_train_2, y_train_2)"
      ]
    },
    {
      "cell_type": "code",
      "execution_count": null,
      "metadata": {
        "id": "DPOAYFts5BmK",
        "outputId": "80b03e81-7518-470a-8e27-3b692e08628b",
        "colab": {
          "base_uri": "https://localhost:8080/"
        }
      },
      "outputs": [
        {
          "output_type": "execute_result",
          "data": {
            "text/plain": [
              "array(['4', '3', '1', ..., '4', '4', '7'], dtype='<U1')"
            ]
          },
          "metadata": {},
          "execution_count": 27
        }
      ],
      "source": [
        "pred_y_2 = model_2.predict(X_test_2)\n",
        "pred_y_2"
      ]
    },
    {
      "cell_type": "markdown",
      "metadata": {
        "id": "OPb_UeZL5BmM"
      },
      "source": [
        "**Evaluation**\n",
        "\n",
        "We proceed with the comparison of these two models, for a comprehensive evaluation of the effectiveness of the speakers, including accuracy, the area under the ROC curve (AUC-ROC), and the F1 score. Accuracy measures the proportion of accurate predictions, AUC-ROC evaluates a model's ability to distinguish between classes, and F1-Score combines fairness and goodness to succeed in both classes, that is, to avoid false positives and false negatives. These metrics are selected because they offer a comprehensive view of the model's performance in all areas."
      ]
    },
    {
      "cell_type": "code",
      "execution_count": null,
      "metadata": {
        "id": "6Qk9FWAh5BmN",
        "outputId": "6ca62060-07e4-4cd9-ca2c-6f8b02bbba30",
        "colab": {
          "base_uri": "https://localhost:8080/"
        }
      },
      "outputs": [
        {
          "output_type": "stream",
          "name": "stdout",
          "text": [
            "Informe de Clasificación para Gaussian Naive Bayes:\n",
            "              precision    recall  f1-score   support\n",
            "\n",
            "           0       0.95      0.91      0.93      1883\n",
            "           1       0.98      0.94      0.96      1920\n",
            "           2       0.67      0.87      0.76      1896\n",
            "           3       0.84      0.83      0.83      1873\n",
            "           4       0.89      0.82      0.85      1864\n",
            "           5       0.81      0.83      0.82      1906\n",
            "           6       0.94      0.88      0.91      1872\n",
            "           7       0.93      0.82      0.87      1935\n",
            "           8       0.85      0.85      0.85      1882\n",
            "           9       0.79      0.82      0.80      1908\n",
            "\n",
            "    accuracy                           0.86     18939\n",
            "   macro avg       0.87      0.86      0.86     18939\n",
            "weighted avg       0.87      0.86      0.86     18939\n",
            "\n",
            "\n",
            "Informe de Clasificación para Multinomial Naive Bayes:\n",
            "              precision    recall  f1-score   support\n",
            "\n",
            "           0       0.89      0.88      0.88      1907\n",
            "           1       0.84      0.96      0.90      1816\n",
            "           2       0.86      0.84      0.85      1872\n",
            "           3       0.76      0.80      0.78      1950\n",
            "           4       0.81      0.81      0.81      1881\n",
            "           5       0.81      0.69      0.75      1905\n",
            "           6       0.90      0.89      0.90      1840\n",
            "           7       0.92      0.85      0.88      1918\n",
            "           8       0.76      0.75      0.75      1907\n",
            "           9       0.73      0.80      0.76      1943\n",
            "\n",
            "    accuracy                           0.83     18939\n",
            "   macro avg       0.83      0.83      0.83     18939\n",
            "weighted avg       0.83      0.83      0.83     18939\n",
            "\n"
          ]
        }
      ],
      "source": [
        "# Generar informes de clasificación para ambos modelos\n",
        "report_modelo1 = classification_report(y_test, pred_y)\n",
        "report_modelo2 = classification_report(y_test_2, pred_y_2)\n",
        "\n",
        "# Imprimir los informes de clasificación para ambos modelos\n",
        "print(\"Informe de Clasificación para Gaussian Naive Bayes:\")\n",
        "print(report_modelo1)\n",
        "print(\"\\nInforme de Clasificación para Multinomial Naive Bayes:\")\n",
        "print(report_modelo2)\n"
      ]
    },
    {
      "cell_type": "markdown",
      "metadata": {
        "id": "ftR3uEC35BmO"
      },
      "source": [
        "The results of each of the models were shown above. If we want to indicate which one is the best according to some metric, we proceed with the following code. A function is generated where we indicate with respect to which variable we will generate the comparison."
      ]
    },
    {
      "cell_type": "code",
      "execution_count": null,
      "metadata": {
        "id": "_MlWGU5Z5BmO"
      },
      "outputs": [],
      "source": [
        "def comparar_modelos(metrica=\"accuracy\"):\n",
        "    # generación del reporte en forma de diccionario\n",
        "    report_modelo1 = pd.DataFrame(classification_report(y_test, pred_y, output_dict=True)).transpose()\n",
        "    report_modelo2 = pd.DataFrame(classification_report(y_test_2, pred_y_2, output_dict=True)).transpose()\n",
        "    # Obtener la métrica específica para ambos modelos\n",
        "    metrica_modelo1 = report_modelo1[metrica]['weighted avg']\n",
        "    metrica_modelo2 = report_modelo2[metrica]['weighted avg']\n",
        "    # Comparar los modelos según la métrica\n",
        "    if metrica_modelo1 > metrica_modelo2:\n",
        "        return \"El modelo 1 es mejor, con: \" + str(round(metrica_modelo1*100,2)) +\"% y una diferencia es de: \" + str(round(metrica_modelo1 - metrica_modelo2,2)*100) + \" %\"\n",
        "    elif metrica_modelo2 > metrica_modelo1:\n",
        "        return \"El modelo 2 es mejor, con: \" + str(round(metrica_modelo2*100,2)) +\"% y una diferencia es de: \" + str(round(metrica_modelo2 - metrica_modelo1,1)*100) + \" %\"\n",
        "    else:\n",
        "        return \"Ambos modelos tienen el mismo rendimiento.\""
      ]
    },
    {
      "cell_type": "markdown",
      "metadata": {
        "id": "_EzUy5W-5BmP"
      },
      "source": [
        "Given the creation of the function that will help us to determine which model has a better performance with respect to a specific metric, we leave the metrics by which we can proceed with the comparison:\n",
        "\n",
        "1.Precision\n",
        "2.Recall\n",
        "3. F1-Score\n",
        "\n"
      ]
    },
    {
      "cell_type": "code",
      "execution_count": null,
      "metadata": {
        "id": "yGH8f-hp5BmQ",
        "outputId": "722a44b7-8a8c-4c2e-eac1-1db56a0ffef0",
        "colab": {
          "base_uri": "https://localhost:8080/"
        }
      },
      "outputs": [
        {
          "output_type": "stream",
          "name": "stdout",
          "text": [
            "El modelo 1 es mejor, con: 85.95% y una diferencia es de: 3.0 %\n"
          ]
        }
      ],
      "source": [
        "resultado = comparar_modelos(metrica=\"f1-score\")\n",
        "print(resultado)"
      ]
    },
    {
      "cell_type": "markdown",
      "metadata": {
        "id": "sM6Q7lUn5BmQ"
      },
      "source": [
        "### Images generative Processing"
      ]
    },
    {
      "cell_type": "markdown",
      "metadata": {
        "id": "oc47ee4-5BmS"
      },
      "source": [
        "The size of the dataset can be increased or more samples to train or test a machine learning model could be added by creating new images using probabilities determined by a naive Bernoulli Bayesian model. This can be beneficial for both comparing imbalanced profiles and developing composite profiles. Using areas calculated by the model to verify features in the new image can generate content that is similar to the original image and at the same time different from it. Among its multiple uses is to improve the performance of models with scarce data."
      ]
    },
    {
      "cell_type": "code",
      "execution_count": null,
      "metadata": {
        "id": "hQqSJa8C5BmS",
        "outputId": "4ab4a2b4-844b-4896-cb50-a2f6c3be92c4",
        "colab": {
          "base_uri": "https://localhost:8080/",
          "height": 637
        }
      },
      "outputs": [
        {
          "output_type": "display_data",
          "data": {
            "text/plain": [
              "<Figure size 1000x700 with 10 Axes>"
            ],
            "image/png": "[encoded data removed]"
          },
          "metadata": {}
        }
      ],
      "source": [
        "warnings.filterwarnings(\"ignore\")\n",
        "fig, ax = plt.subplots(2,5, figsize=(10,7))\n",
        "# crear subtrama para cada dígito\n",
        "for i, ax in enumerate(ax.flatten()):\n",
        "    # obtener una muestra de la distribución de Bernoulli con probabilidades p\n",
        "    imagen = pd.DataFrame()\n",
        "    for j in range(1000): # Se genera este bucle para poder generar una mejor imagen con multiples iteraciones\n",
        "        imagen[j] = np.random.binomial(1,np.exp(model_2.feature_log_prob_[i]), 784)\n",
        "    vec_generated = imagen.mean(axis=1)\n",
        "    # reshape el vector a una imagen de 28X28\n",
        "    img = np.array(vec_generated).reshape((28, 28))\n",
        "    # plot imagen de dígitos\n",
        "    ax.imshow(img)\n",
        "    # agregar label\n",
        "    ax.set_title(f\"Label: {i}\")\n",
        "    ax.grid(False)\n",
        "fig.suptitle(\"Números generados y sus etiquetas\")\n",
        "fig.tight_layout()\n",
        "plt.show()"
      ]
    },
    {
      "cell_type": "markdown",
      "metadata": {
        "id": "nTLPvHQT5BmT"
      },
      "source": [
        "### Conclussion"
      ]
    },
    {
      "cell_type": "markdown",
      "metadata": {
        "id": "-hcxq9tJ5BmU"
      },
      "source": [
        "In general, the simplified PCA model and the Gaussian Naive Bayes model outperformed the other tested model in terms of classification. Unlike Gaussian Naive Bayes, which works well with continuous data, PCA helps to reduce dimensionality and independence of variables, so this is to be expected. Curiously, even the multinomial model, which does not adjust the independence of the variables, works well. However, to draw a conclusion, it is suggested to compare the models convered in this notebook with other datasets in order to check the performance."
      ]
    }
  ],
  "metadata": {
    "kernelspec": {
      "display_name": "Python 3",
      "language": "python",
      "name": "python3"
    },
    "language_info": {
      "codemirror_mode": {
        "name": "ipython",
        "version": 3
      },
      "file_extension": ".py",
      "mimetype": "text/x-python",
      "name": "python",
      "nbconvert_exporter": "python",
      "pygments_lexer": "ipython3",
      "version": "3.11.4"
    },
    "orig_nbformat": 4,
    "colab": {
      "provenance": [],
      "include_colab_link": true
    }
  },
  "nbformat": 4,
  "nbformat_minor": 0
}